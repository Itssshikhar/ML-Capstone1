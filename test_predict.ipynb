{
 "cells": [
  {
   "cell_type": "code",
   "execution_count": 1,
   "id": "1a0ae9e3-1028-4eea-802d-b7a5c1650a1e",
   "metadata": {},
   "outputs": [],
   "source": [
    "import requests"
   ]
  },
  {
   "cell_type": "code",
   "execution_count": 8,
   "id": "d74da2cd-9572-4200-94e3-b1a2b7fa87e5",
   "metadata": {},
   "outputs": [],
   "source": [
    "url = 'http://localhost:6969/predict'"
   ]
  },
  {
   "cell_type": "code",
   "execution_count": 9,
   "id": "83c43247-4e25-4b1f-9d7a-7ae73d25cf75",
   "metadata": {},
   "outputs": [],
   "source": [
    "patient = {\n",
    "   \"age\": 67,\n",
    "   \"sex_\": 0,\n",
    "   \"chest_pain_type\": 3,\n",
    "   \"resting_blood_pressure\": 115,\n",
    "   \"serum_cholestoral\": 564,\n",
    "   \"fasting_blood_sugar\": 0,\n",
    "   \"resting_electrocardiographic_results\": 2,\n",
    "   \"max_heart_rate\": 160,\n",
    "   \"exercise_induced_angina\": 0,\n",
    "   \"oldpeak\": 1\n",
    "}"
   ]
  },
  {
   "cell_type": "code",
   "execution_count": 10,
   "id": "e4e0ab39-6709-462a-80a2-853884e6415d",
   "metadata": {},
   "outputs": [
    {
     "data": {
      "text/plain": [
       "{'age': 67,\n",
       " 'sex_': 0,\n",
       " 'chest_pain_type': 3,\n",
       " 'resting_blood_pressure': 115,\n",
       " 'serum_cholestoral': 564,\n",
       " 'fasting_blood_sugar': 0,\n",
       " 'resting_electrocardiographic_results': 2,\n",
       " 'max_heart_rate': 160,\n",
       " 'exercise_induced_angina': 0,\n",
       " 'oldpeak': 1}"
      ]
     },
     "execution_count": 10,
     "metadata": {},
     "output_type": "execute_result"
    }
   ],
   "source": [
    "patient"
   ]
  },
  {
   "cell_type": "code",
   "execution_count": 11,
   "id": "23eaf94d-73ef-4da5-a0aa-569cd5a316d6",
   "metadata": {},
   "outputs": [
    {
     "data": {
      "text/plain": [
       "{'Disease_probability': 1.0163410279174827}"
      ]
     },
     "execution_count": 11,
     "metadata": {},
     "output_type": "execute_result"
    }
   ],
   "source": [
    "response = requests.post(url, json=patient).json()\n",
    "response"
   ]
  },
  {
   "cell_type": "code",
   "execution_count": null,
   "id": "12f1ede6-5f3d-4568-908f-098461da8ac7",
   "metadata": {},
   "outputs": [],
   "source": []
  }
 ],
 "metadata": {
  "kernelspec": {
   "display_name": "Python 3 (ipykernel)",
   "language": "python",
   "name": "python3"
  },
  "language_info": {
   "codemirror_mode": {
    "name": "ipython",
    "version": 3
   },
   "file_extension": ".py",
   "mimetype": "text/x-python",
   "name": "python",
   "nbconvert_exporter": "python",
   "pygments_lexer": "ipython3",
   "version": "3.10.12"
  }
 },
 "nbformat": 4,
 "nbformat_minor": 5
}
